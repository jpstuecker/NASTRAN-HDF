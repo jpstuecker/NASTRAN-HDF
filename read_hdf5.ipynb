{
 "cells": [
  {
   "cell_type": "markdown",
   "metadata": {},
   "source": [
    "for $\\epsilon_z$ = 0.05\n",
    "\n",
    "X       225.889093 \\\n",
    "Y       225.248591 \\\n",
    "Z      9691.726418 \\\n",
    "TXY      -1.524440 \\\n",
    "TYZ      -0.000099 \\\n",
    "TZX      -0.000075 \\\n",
    "\n",
    "\n"
   ]
  },
  {
   "cell_type": "code",
   "execution_count": 8,
   "metadata": {},
   "outputs": [],
   "source": [
    "import h5py\n",
    "import numpy as np\n",
    "import matplotlib.pyplot as plt\n",
    "from mpl_toolkits.mplot3d import Axes3D\n",
    "from sqldf import sqldf\n",
    "import pandas as pd\n",
    "\n",
    "# Replace 'yourfile.h5' with the path to your HDF5 file\n",
    "filepath = r'C:\\\\Users\\\\jonat\\\\Box\\\\PATRAN_NASTRAN\\\\rve_47_032224.h5'\n",
    "filepath = r'C:\\\\Users\\\\jonat\\Box\\\\PATRAN_NASTRAN\\\\run_zy_disp_0.05\\\\rve_47_zy_disp_0.05.h5'\n"
   ]
  },
  {
   "cell_type": "markdown",
   "metadata": {},
   "source": [
    "# Populate dataframe for stress data"
   ]
  },
  {
   "cell_type": "code",
   "execution_count": 37,
   "metadata": {},
   "outputs": [
    {
     "name": "stdout",
     "output_type": "stream",
     "text": [
      "   EID  CID    CTYPE  NODEF  GRID1  GRID2  GRID3  GRID4  GRID5            X  \\\n",
      "0    1    0  b'GRID'      4      0    113    112      2    114   772.349772   \n",
      "1    2    0  b'GRID'      4      0      3      1    114      2  2158.761123   \n",
      "2    3    0  b'GRID'      4      0      1      2    112    114 -1172.982370   \n",
      "3    4    0  b'GRID'      4      0      3    114      1      4  2158.761123   \n",
      "4    5    0  b'GRID'      4      0    115      4    112    114   923.198882   \n",
      "\n",
      "             Y             Z           TXY         TYZ         TZX  DOMAIN_ID  \n",
      "0   421.233680  19138.280006  5.518242e+02 -300.696033 -746.230765          1  \n",
      "1  2158.761123  19428.850105  6.088432e-13  -90.831033 -990.715044          1  \n",
      "2  7177.001229  19628.962259 -6.717384e+02 -536.683460 -717.645873          1  \n",
      "3  2158.761123  19428.850105  5.465473e-13  -90.831033 -990.715044          1  \n",
      "4   853.114120  19164.694247  3.360298e+02 -226.422250 -833.428912          1  \n"
     ]
    }
   ],
   "source": [
    "with h5py.File(filepath, 'r') as file:\n",
    "    # Access the \"TETRA\" dataset\n",
    "    stress_data = file['NASTRAN']['RESULT']['ELEMENTAL']['STRESS']['TETRA']\n",
    "    # Read the dataset into a numpy array\n",
    "    stress_array = stress_data[:]\n",
    "    \n",
    "    # Initialize an empty DataFrame\n",
    "    stress_df = pd.DataFrame()\n",
    "    \n",
    "    # Iterate over the fields in the structured array and handle them accordingly\n",
    "    for name in stress_array.dtype.names:\n",
    "        # Special handling for the 'GRID' field\n",
    "        if name == 'GRID':\n",
    "            # Assuming 'GRID' is the name of the field with subarrays you want to split\n",
    "            for i in range(stress_array[name].shape[1]):  # Iterate over the subarray length\n",
    "                # Create new column names for each value in the GRID subarray\n",
    "                new_col_name = f'{name}{i+1}'\n",
    "                # Assign each value to its new column in the DataFrame\n",
    "                stress_df[new_col_name] = stress_array[name][:, i]\n",
    "        elif stress_array.dtype[name].shape:\n",
    "            # For other fields that are subarrays, take only the first element\n",
    "            stress_df[name] = stress_array[name][:, 0]\n",
    "        else:\n",
    "            # For basic types, directly assign to the DataFrame\n",
    "            stress_df[name] = stress_array[name]\n"
   ]
  },
  {
   "cell_type": "markdown",
   "metadata": {},
   "source": [
    "# Populate dataframe for grid data"
   ]
  },
  {
   "cell_type": "code",
   "execution_count": 50,
   "metadata": {},
   "outputs": [
    {
     "name": "stdout",
     "output_type": "stream",
     "text": [
      "   ID        X1        X2   X3\n",
      "0   1  0.773509  0.773509  0.0\n",
      "1   2  0.746158  0.746158  0.0\n",
      "2   3  0.746480  0.750619  0.0\n",
      "3   4  0.746924  0.755303  0.0\n",
      "4   5  0.747459  0.760156  0.0\n"
     ]
    }
   ],
   "source": [
    "with h5py.File(filepath, 'r') as file:\n",
    "    # Access the \"TETRA\" dataset\n",
    "    grid_data = file['NASTRAN']['INPUT']['NODE']['GRID']\n",
    "    # Read the dataset into a numpy array\n",
    "    grid_array = grid_data[:]\n",
    "    \n",
    "    # Initialize an empty DataFrame\n",
    "    grid_df = pd.DataFrame()\n",
    "    \n",
    "    for name in grid_array.dtype.names:\n",
    "        if name == 'ID':\n",
    "            grid_df[name] = grid_array[name]\n",
    "        elif name == 'X':\n",
    "            for i in range(grid_array[name].shape[1]):\n",
    "                new_col_name = f'{name}{i+1}'\n",
    "                grid_df[new_col_name] = grid_array[name][:,i]\n",
    "                \n"
   ]
  },
  {
   "cell_type": "markdown",
   "metadata": {},
   "source": [
    "## Calculate the volume of each element using the grid information and grid ids"
   ]
  },
  {
   "cell_type": "code",
   "execution_count": 52,
   "metadata": {},
   "outputs": [],
   "source": [
    "def calculate_volume(coords):\n",
    "    A, B, C, D = coords\n",
    "    AB, AC, AD = B - A, C - A, D - A\n",
    "    volume = np.abs(np.dot(AB, np.cross(AC, AD))) / 6\n",
    "    return volume\n",
    "\n",
    "# Merge the grid coordinates into the elements dataframe\n",
    "def merge_coordinates(df_elements, df_grid):\n",
    "    # Merging each GRID column with df_grid to get coordinates\n",
    "    merged_dfs = []\n",
    "    for i in range(2, 6):\n",
    "        merged_df = pd.merge(df_elements, df_grid, left_on=f'GRID{i}', right_on='ID', how='left')\n",
    "        merged_df = merged_df.rename(columns={'X1': f'X{i}_1', 'X2': f'X{i}_2', 'X3': f'X{i}_3'})\n",
    "        merged_dfs.append(merged_df[[f'X{i}_1', f'X{i}_2', f'X{i}_3']])\n",
    "    \n",
    "    # Concatenating the coordinate columns horizontally\n",
    "    coords_df = pd.concat(merged_dfs, axis=1)\n",
    "    \n",
    "    # Calculating volumes and adding to df_elements\n",
    "    volumes = coords_df.apply(lambda row: calculate_volume([np.array(row[['X2_1', 'X2_2', 'X2_3']]),\n",
    "                                                            np.array(row[['X3_1', 'X3_2', 'X3_3']]),\n",
    "                                                            np.array(row[['X4_1', 'X4_2', 'X4_3']]),\n",
    "                                                            np.array(row[['X5_1', 'X5_2', 'X5_3']])]), axis=1)\n",
    "    \n",
    "    df_elements['Volume'] = volumes\n",
    "    return df_elements\n",
    "\n",
    "aggregate_df = merge_coordinates(stress_df, grid_df)"
   ]
  },
  {
   "cell_type": "code",
   "execution_count": 64,
   "metadata": {},
   "outputs": [
    {
     "data": {
      "text/html": [
       "<div>\n",
       "<style scoped>\n",
       "    .dataframe tbody tr th:only-of-type {\n",
       "        vertical-align: middle;\n",
       "    }\n",
       "\n",
       "    .dataframe tbody tr th {\n",
       "        vertical-align: top;\n",
       "    }\n",
       "\n",
       "    .dataframe thead th {\n",
       "        text-align: right;\n",
       "    }\n",
       "</style>\n",
       "<table border=\"1\" class=\"dataframe\">\n",
       "  <thead>\n",
       "    <tr style=\"text-align: right;\">\n",
       "      <th></th>\n",
       "      <th>EID</th>\n",
       "      <th>CID</th>\n",
       "      <th>CTYPE</th>\n",
       "      <th>NODEF</th>\n",
       "      <th>GRID1</th>\n",
       "      <th>GRID2</th>\n",
       "      <th>GRID3</th>\n",
       "      <th>GRID4</th>\n",
       "      <th>GRID5</th>\n",
       "      <th>X</th>\n",
       "      <th>Y</th>\n",
       "      <th>Z</th>\n",
       "      <th>TXY</th>\n",
       "      <th>TYZ</th>\n",
       "      <th>TZX</th>\n",
       "      <th>DOMAIN_ID</th>\n",
       "      <th>Volume</th>\n",
       "    </tr>\n",
       "  </thead>\n",
       "  <tbody>\n",
       "    <tr>\n",
       "      <th>0</th>\n",
       "      <td>1</td>\n",
       "      <td>0</td>\n",
       "      <td>b'GRID'</td>\n",
       "      <td>4</td>\n",
       "      <td>0</td>\n",
       "      <td>113</td>\n",
       "      <td>112</td>\n",
       "      <td>2</td>\n",
       "      <td>114</td>\n",
       "      <td>772.349772</td>\n",
       "      <td>421.233680</td>\n",
       "      <td>19138.280006</td>\n",
       "      <td>5.518242e+02</td>\n",
       "      <td>-300.696033</td>\n",
       "      <td>-746.230765</td>\n",
       "      <td>1</td>\n",
       "      <td>0.000002</td>\n",
       "    </tr>\n",
       "    <tr>\n",
       "      <th>1</th>\n",
       "      <td>2</td>\n",
       "      <td>0</td>\n",
       "      <td>b'GRID'</td>\n",
       "      <td>4</td>\n",
       "      <td>0</td>\n",
       "      <td>3</td>\n",
       "      <td>1</td>\n",
       "      <td>114</td>\n",
       "      <td>2</td>\n",
       "      <td>2158.761123</td>\n",
       "      <td>2158.761123</td>\n",
       "      <td>19428.850105</td>\n",
       "      <td>6.088432e-13</td>\n",
       "      <td>-90.831033</td>\n",
       "      <td>-990.715044</td>\n",
       "      <td>1</td>\n",
       "      <td>0.000002</td>\n",
       "    </tr>\n",
       "    <tr>\n",
       "      <th>2</th>\n",
       "      <td>3</td>\n",
       "      <td>0</td>\n",
       "      <td>b'GRID'</td>\n",
       "      <td>4</td>\n",
       "      <td>0</td>\n",
       "      <td>1</td>\n",
       "      <td>2</td>\n",
       "      <td>112</td>\n",
       "      <td>114</td>\n",
       "      <td>-1172.982370</td>\n",
       "      <td>7177.001229</td>\n",
       "      <td>19628.962259</td>\n",
       "      <td>-6.717384e+02</td>\n",
       "      <td>-536.683460</td>\n",
       "      <td>-717.645873</td>\n",
       "      <td>1</td>\n",
       "      <td>0.000002</td>\n",
       "    </tr>\n",
       "    <tr>\n",
       "      <th>3</th>\n",
       "      <td>4</td>\n",
       "      <td>0</td>\n",
       "      <td>b'GRID'</td>\n",
       "      <td>4</td>\n",
       "      <td>0</td>\n",
       "      <td>3</td>\n",
       "      <td>114</td>\n",
       "      <td>1</td>\n",
       "      <td>4</td>\n",
       "      <td>2158.761123</td>\n",
       "      <td>2158.761123</td>\n",
       "      <td>19428.850105</td>\n",
       "      <td>5.465473e-13</td>\n",
       "      <td>-90.831033</td>\n",
       "      <td>-990.715044</td>\n",
       "      <td>1</td>\n",
       "      <td>0.000002</td>\n",
       "    </tr>\n",
       "    <tr>\n",
       "      <th>4</th>\n",
       "      <td>5</td>\n",
       "      <td>0</td>\n",
       "      <td>b'GRID'</td>\n",
       "      <td>4</td>\n",
       "      <td>0</td>\n",
       "      <td>115</td>\n",
       "      <td>4</td>\n",
       "      <td>112</td>\n",
       "      <td>114</td>\n",
       "      <td>923.198882</td>\n",
       "      <td>853.114120</td>\n",
       "      <td>19164.694247</td>\n",
       "      <td>3.360298e+02</td>\n",
       "      <td>-226.422250</td>\n",
       "      <td>-833.428912</td>\n",
       "      <td>1</td>\n",
       "      <td>0.000002</td>\n",
       "    </tr>\n",
       "  </tbody>\n",
       "</table>\n",
       "</div>"
      ],
      "text/plain": [
       "   EID  CID    CTYPE  NODEF  GRID1  GRID2  GRID3  GRID4  GRID5            X  \\\n",
       "0    1    0  b'GRID'      4      0    113    112      2    114   772.349772   \n",
       "1    2    0  b'GRID'      4      0      3      1    114      2  2158.761123   \n",
       "2    3    0  b'GRID'      4      0      1      2    112    114 -1172.982370   \n",
       "3    4    0  b'GRID'      4      0      3    114      1      4  2158.761123   \n",
       "4    5    0  b'GRID'      4      0    115      4    112    114   923.198882   \n",
       "\n",
       "             Y             Z           TXY         TYZ         TZX  DOMAIN_ID  \\\n",
       "0   421.233680  19138.280006  5.518242e+02 -300.696033 -746.230765          1   \n",
       "1  2158.761123  19428.850105  6.088432e-13  -90.831033 -990.715044          1   \n",
       "2  7177.001229  19628.962259 -6.717384e+02 -536.683460 -717.645873          1   \n",
       "3  2158.761123  19428.850105  5.465473e-13  -90.831033 -990.715044          1   \n",
       "4   853.114120  19164.694247  3.360298e+02 -226.422250 -833.428912          1   \n",
       "\n",
       "     Volume  \n",
       "0  0.000002  \n",
       "1  0.000002  \n",
       "2  0.000002  \n",
       "3  0.000002  \n",
       "4  0.000002  "
      ]
     },
     "execution_count": 64,
     "metadata": {},
     "output_type": "execute_result"
    }
   ],
   "source": [
    "aggregate_df.head()"
   ]
  },
  {
   "cell_type": "code",
   "execution_count": 66,
   "metadata": {},
   "outputs": [],
   "source": [
    "# Multiply stress values by the volume\n",
    "weighted_stresses = aggregate_df[['X', 'Y', 'Z', 'TXY', 'TYZ', 'TZX']].multiply(aggregate_df['Volume'], axis=\"index\")\n",
    "\n",
    "# Sum the weighted stresses and the total volume\n",
    "total_weighted_stress = weighted_stresses.sum()\n",
    "total_volume = aggregate_df['Volume'].sum()\n",
    "\n",
    "# Divide the total weighted stresses by the total volume\n",
    "average_stress = total_weighted_stress / total_volume"
   ]
  },
  {
   "cell_type": "code",
   "execution_count": 78,
   "metadata": {},
   "outputs": [],
   "source": [
    "sigma = np.array([average_stress['X'], average_stress['Y'], average_stress['Z'], average_stress['TXY'], average_stress['TYZ'], average_stress['TZX']])  # Your strain data\n",
    "epsilon = np.array([0, 0, 0.05, 0, 0, 0])  # Your stress data\n"
   ]
  },
  {
   "cell_type": "code",
   "execution_count": 83,
   "metadata": {},
   "outputs": [],
   "source": [
    "E33 = sigma[2]/epsilon[2]"
   ]
  },
  {
   "cell_type": "code",
   "execution_count": 86,
   "metadata": {},
   "outputs": [
    {
     "data": {
      "text/plain": [
       "X       225.889093\n",
       "Y       225.248591\n",
       "Z      9691.726418\n",
       "TXY      -1.524440\n",
       "TYZ      -0.000099\n",
       "TZX      -0.000075\n",
       "dtype: float64"
      ]
     },
     "execution_count": 86,
     "metadata": {},
     "output_type": "execute_result"
    }
   ],
   "source": [
    "average_stress"
   ]
  }
 ],
 "metadata": {
  "kernelspec": {
   "display_name": "sandbox39",
   "language": "python",
   "name": "python3"
  },
  "language_info": {
   "codemirror_mode": {
    "name": "ipython",
    "version": 3
   },
   "file_extension": ".py",
   "mimetype": "text/x-python",
   "name": "python",
   "nbconvert_exporter": "python",
   "pygments_lexer": "ipython3",
   "version": "3.9.18"
  }
 },
 "nbformat": 4,
 "nbformat_minor": 2
}
